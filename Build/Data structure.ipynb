{
 "cells": [
  {
   "cell_type": "code",
   "execution_count": 1,
   "id": "f62a16f1-7225-4b31-ac8a-26240196f3c1",
   "metadata": {},
   "outputs": [
    {
     "name": "stdout",
     "output_type": "stream",
     "text": [
      "hello World\n"
     ]
    }
   ],
   "source": [
    "print(\"hello World\")"
   ]
  },
  {
   "cell_type": "code",
   "execution_count": 2,
   "id": "175f6334-d57c-475b-a7ba-13089fcaef9b",
   "metadata": {},
   "outputs": [],
   "source": [
    "# data type\n"
   ]
  },
  {
   "cell_type": "code",
   "execution_count": 3,
   "id": "0116604e-1ba6-4adf-8255-68cad222113f",
   "metadata": {},
   "outputs": [],
   "source": [
    "a=5\n"
   ]
  },
  {
   "cell_type": "markdown",
   "id": "e9f2fd44-4a97-4d74-a47f-c9bba735ac38",
   "metadata": {},
   "source": [
    "#Data structure List"
   ]
  },
  {
   "cell_type": "code",
   "execution_count": 6,
   "id": "cb3c932f-0716-4ec0-8834-3b04bfbd8a4c",
   "metadata": {},
   "outputs": [],
   "source": [
    "B=(\"5,17,jio\")"
   ]
  },
  {
   "cell_type": "code",
   "execution_count": null,
   "id": "35f5d668-4a23-4992-be6a-7de058803c60",
   "metadata": {},
   "outputs": [],
   "source": []
  },
  {
   "cell_type": "code",
   "execution_count": 7,
   "id": "250361e4-3deb-4252-9d42-fce5dbd96022",
   "metadata": {},
   "outputs": [
    {
     "data": {
      "text/plain": [
       "1"
      ]
     },
     "execution_count": 7,
     "metadata": {},
     "output_type": "execute_result"
    }
   ],
   "source": [
    "len(\"0\")"
   ]
  },
  {
   "cell_type": "code",
   "execution_count": 8,
   "id": "da9ddbe6-2439-492e-ab84-4fe94a8f2ef7",
   "metadata": {},
   "outputs": [
    {
     "data": {
      "text/plain": [
       "1"
      ]
     },
     "execution_count": 8,
     "metadata": {},
     "output_type": "execute_result"
    }
   ],
   "source": [
    "len(\"1\")"
   ]
  },
  {
   "cell_type": "code",
   "execution_count": 10,
   "id": "9ac52a06-4a73-47f8-a4e1-08215bdaae98",
   "metadata": {},
   "outputs": [
    {
     "ename": "TypeError",
     "evalue": "'builtin_function_or_method' object is not subscriptable",
     "output_type": "error",
     "traceback": [
      "\u001b[1;31m---------------------------------------------------------------------------\u001b[0m",
      "\u001b[1;31mTypeError\u001b[0m                                 Traceback (most recent call last)",
      "Cell \u001b[1;32mIn[10], line 1\u001b[0m\n\u001b[1;32m----> 1\u001b[0m \u001b[38;5;28mlen\u001b[39m[\u001b[38;5;124m\"\u001b[39m\u001b[38;5;124m1\u001b[39m\u001b[38;5;124m\"\u001b[39m]\n",
      "\u001b[1;31mTypeError\u001b[0m: 'builtin_function_or_method' object is not subscriptable"
     ]
    }
   ],
   "source": [
    "len[\"1\"]"
   ]
  },
  {
   "cell_type": "code",
   "execution_count": null,
   "id": "dd189d85-f70b-499b-a8da-2fffbf7bfbbc",
   "metadata": {},
   "outputs": [],
   "source": []
  },
  {
   "cell_type": "code",
   "execution_count": 11,
   "id": "69a3e56e-5d9d-44ce-9b9c-7b0ee10940c8",
   "metadata": {},
   "outputs": [
    {
     "ename": "NameError",
     "evalue": "name 'l' is not defined",
     "output_type": "error",
     "traceback": [
      "\u001b[1;31m---------------------------------------------------------------------------\u001b[0m",
      "\u001b[1;31mNameError\u001b[0m                                 Traceback (most recent call last)",
      "Cell \u001b[1;32mIn[11], line 1\u001b[0m\n\u001b[1;32m----> 1\u001b[0m l\u001b[38;5;241m.\u001b[39mappend(\u001b[38;5;241m10\u001b[39m)\n",
      "\u001b[1;31mNameError\u001b[0m: name 'l' is not defined"
     ]
    }
   ],
   "source": [
    "l.append(10)"
   ]
  },
  {
   "cell_type": "code",
   "execution_count": 12,
   "id": "3feab921-1022-47ab-b131-25c31af265fd",
   "metadata": {},
   "outputs": [
    {
     "data": {
      "text/plain": [
       "[]"
      ]
     },
     "execution_count": 12,
     "metadata": {},
     "output_type": "execute_result"
    }
   ],
   "source": [
    "l=[]\n",
    "l"
   ]
  },
  {
   "cell_type": "code",
   "execution_count": 14,
   "id": "b43d8c5f-d9c5-49ed-a00a-e4fbec6aedf2",
   "metadata": {},
   "outputs": [
    {
     "data": {
      "text/plain": [
       "[10, 10]"
      ]
     },
     "execution_count": 14,
     "metadata": {},
     "output_type": "execute_result"
    }
   ],
   "source": [
    "l.append(10)\n",
    "l"
   ]
  },
  {
   "cell_type": "code",
   "execution_count": 1,
   "id": "d598a8b1-ffb3-4f2f-8095-f50c49fed210",
   "metadata": {
    "jp-MarkdownHeadingCollapsed": true
   },
   "outputs": [
    {
     "ename": "NameError",
     "evalue": "name 'l2' is not defined",
     "output_type": "error",
     "traceback": [
      "\u001b[1;31m---------------------------------------------------------------------------\u001b[0m",
      "\u001b[1;31mNameError\u001b[0m                                 Traceback (most recent call last)",
      "Cell \u001b[1;32mIn[1], line 1\u001b[0m\n\u001b[1;32m----> 1\u001b[0m l2\u001b[38;5;241m==\u001b[39ml1\n",
      "\u001b[1;31mNameError\u001b[0m: name 'l2' is not defined"
     ]
    }
   ],
   "source": [
    "l2==l1"
   ]
  },
  {
   "cell_type": "code",
   "execution_count": 2,
   "id": "5d3416d0-e387-41d3-929b-8861e126e54e",
   "metadata": {},
   "outputs": [
    {
     "ename": "NameError",
     "evalue": "name 'l' is not defined",
     "output_type": "error",
     "traceback": [
      "\u001b[1;31m---------------------------------------------------------------------------\u001b[0m",
      "\u001b[1;31mNameError\u001b[0m                                 Traceback (most recent call last)",
      "Cell \u001b[1;32mIn[2], line 1\u001b[0m\n\u001b[1;32m----> 1\u001b[0m l\n",
      "\u001b[1;31mNameError\u001b[0m: name 'l' is not defined"
     ]
    }
   ],
   "source": [
    "l"
   ]
  },
  {
   "cell_type": "code",
   "execution_count": 4,
   "id": "864adee5-43c8-4842-9017-ecc9fd0e4101",
   "metadata": {},
   "outputs": [
    {
     "ename": "NameError",
     "evalue": "name 'l' is not defined",
     "output_type": "error",
     "traceback": [
      "\u001b[1;31m---------------------------------------------------------------------------\u001b[0m",
      "\u001b[1;31mNameError\u001b[0m                                 Traceback (most recent call last)",
      "Cell \u001b[1;32mIn[4], line 1\u001b[0m\n\u001b[1;32m----> 1\u001b[0m l\u001b[38;5;241m.\u001b[39mremove(\u001b[38;5;241m1000\u001b[39m)\n",
      "\u001b[1;31mNameError\u001b[0m: name 'l' is not defined"
     ]
    }
   ],
   "source": [
    "l.remove(1000)"
   ]
  },
  {
   "cell_type": "code",
   "execution_count": 5,
   "id": "5706dac2-bf96-46db-8186-b4dcd45a2503",
   "metadata": {},
   "outputs": [
    {
     "ename": "NameError",
     "evalue": "name 'l' is not defined",
     "output_type": "error",
     "traceback": [
      "\u001b[1;31m---------------------------------------------------------------------------\u001b[0m",
      "\u001b[1;31mNameError\u001b[0m                                 Traceback (most recent call last)",
      "Cell \u001b[1;32mIn[5], line 1\u001b[0m\n\u001b[1;32m----> 1\u001b[0m l\n",
      "\u001b[1;31mNameError\u001b[0m: name 'l' is not defined"
     ]
    }
   ],
   "source": [
    "l"
   ]
  },
  {
   "cell_type": "code",
   "execution_count": 7,
   "id": "192a6637-b013-4c9b-a034-d327f09aa7d5",
   "metadata": {},
   "outputs": [
    {
     "data": {
      "text/plain": [
       "'raja'"
      ]
     },
     "execution_count": 7,
     "metadata": {},
     "output_type": "execute_result"
    }
   ],
   "source": [
    "s7='raja'\n",
    "s7"
   ]
  },
  {
   "cell_type": "code",
   "execution_count": 8,
   "id": "990a1eb5-009a-4cd5-87f2-ae0c4b48a313",
   "metadata": {},
   "outputs": [
    {
     "data": {
      "text/plain": [
       "'r'"
      ]
     },
     "execution_count": 8,
     "metadata": {},
     "output_type": "execute_result"
    }
   ],
   "source": [
    "s7[0]"
   ]
  },
  {
   "cell_type": "code",
   "execution_count": 9,
   "id": "67055f36-d734-4cba-ac07-ec18c5d4a579",
   "metadata": {},
   "outputs": [
    {
     "data": {
      "text/plain": [
       "'raja'"
      ]
     },
     "execution_count": 9,
     "metadata": {},
     "output_type": "execute_result"
    }
   ],
   "source": [
    "s7"
   ]
  },
  {
   "cell_type": "code",
   "execution_count": 10,
   "id": "62513b60-d781-453e-b689-9a2404bed51e",
   "metadata": {},
   "outputs": [
    {
     "data": {
      "text/plain": [
       "'a'"
      ]
     },
     "execution_count": 10,
     "metadata": {},
     "output_type": "execute_result"
    }
   ],
   "source": [
    "s7[-3]"
   ]
  },
  {
   "cell_type": "code",
   "execution_count": 13,
   "id": "e3dbf4c2-2561-4239-9d5b-62d3bc534874",
   "metadata": {},
   "outputs": [
    {
     "data": {
      "text/plain": [
       "'asdf'"
      ]
     },
     "execution_count": 13,
     "metadata": {},
     "output_type": "execute_result"
    }
   ],
   "source": [
    "s8='asdf'\n",
    "s8"
   ]
  },
  {
   "cell_type": "code",
   "execution_count": 14,
   "id": "5918efef-4e18-4f0f-8562-99409e920048",
   "metadata": {},
   "outputs": [
    {
     "data": {
      "text/plain": [
       "'sdf'"
      ]
     },
     "execution_count": 14,
     "metadata": {},
     "output_type": "execute_result"
    }
   ],
   "source": [
    "s8[1:8]"
   ]
  },
  {
   "cell_type": "code",
   "execution_count": 1,
   "id": "1513f997-497c-44eb-8b1f-8ecc5a35878f",
   "metadata": {},
   "outputs": [
    {
     "ename": "NameError",
     "evalue": "name 't' is not defined",
     "output_type": "error",
     "traceback": [
      "\u001b[1;31m---------------------------------------------------------------------------\u001b[0m",
      "\u001b[1;31mNameError\u001b[0m                                 Traceback (most recent call last)",
      "Cell \u001b[1;32mIn[1], line 1\u001b[0m\n\u001b[1;32m----> 1\u001b[0m \u001b[38;5;28mtype\u001b[39m(t)\n",
      "\u001b[1;31mNameError\u001b[0m: name 't' is not defined"
     ]
    }
   ],
   "source": [
    "type(t)"
   ]
  },
  {
   "cell_type": "code",
   "execution_count": 2,
   "id": "97c0116f-9099-418d-910c-b7090d2e378b",
   "metadata": {},
   "outputs": [
    {
     "data": {
      "text/plain": [
       "{20, 30, 40}"
      ]
     },
     "execution_count": 2,
     "metadata": {},
     "output_type": "execute_result"
    }
   ],
   "source": [
    "s2={20,30,40}\n",
    "s2"
   ]
  },
  {
   "cell_type": "code",
   "execution_count": 3,
   "id": "f7003164-c416-45de-b323-f6c14d5ff501",
   "metadata": {},
   "outputs": [
    {
     "data": {
      "text/plain": [
       "set()"
      ]
     },
     "execution_count": 3,
     "metadata": {},
     "output_type": "execute_result"
    }
   ],
   "source": [
    "set()"
   ]
  },
  {
   "cell_type": "code",
   "execution_count": 4,
   "id": "fabe0c12-01b0-492b-a7c6-b85db90c318b",
   "metadata": {},
   "outputs": [
    {
     "data": {
      "text/plain": [
       "{20, 30, 40}"
      ]
     },
     "execution_count": 4,
     "metadata": {},
     "output_type": "execute_result"
    }
   ],
   "source": [
    "s2={20,30,40}\n",
    "s2"
   ]
  },
  {
   "cell_type": "code",
   "execution_count": 6,
   "id": "b62c025f-3281-486d-bd60-0d358fb20731",
   "metadata": {},
   "outputs": [
    {
     "ename": "NameError",
     "evalue": "name 's4' is not defined",
     "output_type": "error",
     "traceback": [
      "\u001b[1;31m---------------------------------------------------------------------------\u001b[0m",
      "\u001b[1;31mNameError\u001b[0m                                 Traceback (most recent call last)",
      "Cell \u001b[1;32mIn[6], line 1\u001b[0m\n\u001b[1;32m----> 1\u001b[0m s4\u001b[38;5;241m.\u001b[39madd(\u001b[38;5;241m1000\u001b[39m)\n",
      "\u001b[1;31mNameError\u001b[0m: name 's4' is not defined"
     ]
    }
   ],
   "source": [
    "s4.add(1000)"
   ]
  },
  {
   "cell_type": "code",
   "execution_count": null,
   "id": "a9dd206a-a066-4b43-9c50-f548f09ee122",
   "metadata": {},
   "outputs": [],
   "source": [
    "  # e  "
   ]
  }
 ],
 "metadata": {
  "kernelspec": {
   "display_name": "Python 3 (ipykernel)",
   "language": "python",
   "name": "python3"
  },
  "language_info": {
   "codemirror_mode": {
    "name": "ipython",
    "version": 3
   },
   "file_extension": ".py",
   "mimetype": "text/x-python",
   "name": "python",
   "nbconvert_exporter": "python",
   "pygments_lexer": "ipython3",
   "version": "3.12.7"
  }
 },
 "nbformat": 4,
 "nbformat_minor": 5
}
